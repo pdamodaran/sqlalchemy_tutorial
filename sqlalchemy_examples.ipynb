{
 "cells": [
  {
   "cell_type": "markdown",
   "metadata": {},
   "source": [
    "## SQLAlchemy Demo\n",
    "* Create tables\n",
    "* Bulk load data into tables\n",
    "* Insert single record\n",
    "* Run basic queries\n",
    "* Update record\n",
    "* Delete record"
   ]
  },
  {
   "cell_type": "code",
   "execution_count": 1,
   "metadata": {},
   "outputs": [],
   "source": [
    "from db_driver import DBDriver"
   ]
  },
  {
   "cell_type": "code",
   "execution_count": 2,
   "metadata": {},
   "outputs": [],
   "source": [
    "db_driver = DBDriver()"
   ]
  },
  {
   "cell_type": "code",
   "execution_count": 3,
   "metadata": {},
   "outputs": [],
   "source": [
    "db_driver.create_tables()"
   ]
  },
  {
   "cell_type": "code",
   "execution_count": 4,
   "metadata": {},
   "outputs": [],
   "source": [
    "from load_tables import LoadTables"
   ]
  },
  {
   "cell_type": "code",
   "execution_count": 5,
   "metadata": {},
   "outputs": [],
   "source": [
    "load_tables = LoadTables(db_driver.engine)\n",
    "load_tables.load_customers()"
   ]
  },
  {
   "cell_type": "code",
   "execution_count": 6,
   "metadata": {},
   "outputs": [],
   "source": [
    "load_tables.load_addresses()"
   ]
  },
  {
   "cell_type": "code",
   "execution_count": 7,
   "metadata": {},
   "outputs": [],
   "source": [
    "load_tables.load_suppliers()"
   ]
  },
  {
   "cell_type": "markdown",
   "metadata": {},
   "source": [
    "### Insert a single product record"
   ]
  },
  {
   "cell_type": "code",
   "execution_count": 8,
   "metadata": {},
   "outputs": [],
   "source": [
    "from sqlalchemy.orm import sessionmaker\n",
    "from sqlalchemy import func, distinct, and_, or_\n",
    "\n",
    "from data_model import Customer, Product, Supplier"
   ]
  },
  {
   "cell_type": "code",
   "execution_count": 9,
   "metadata": {},
   "outputs": [],
   "source": [
    "session = sessionmaker(bind=db_driver.engine)\n",
    "db_session = session()"
   ]
  },
  {
   "cell_type": "code",
   "execution_count": 10,
   "metadata": {},
   "outputs": [
    {
     "name": "stdout",
     "output_type": "stream",
     "text": [
      "Number of products: 0\n"
     ]
    }
   ],
   "source": [
    "products = db_session.query(Product)\n",
    "print(f\"Number of products: {products.count()}\")"
   ]
  },
  {
   "cell_type": "code",
   "execution_count": 11,
   "metadata": {},
   "outputs": [
    {
     "name": "stdout",
     "output_type": "stream",
     "text": [
      "added product record\n"
     ]
    }
   ],
   "source": [
    "prod_name = 'Kit Kat'\n",
    "qty = 100\n",
    "price = 2.00\n",
    "\n",
    "product = Product(product_name=prod_name, quantity=qty, price=price)\n",
    "db_session.add(product)\n",
    "print(\"added product record\")\n"
   ]
  },
  {
   "cell_type": "markdown",
   "metadata": {},
   "source": [
    "###  Don't forget to commit the data if you want to see it in the database!"
   ]
  },
  {
   "cell_type": "code",
   "execution_count": 12,
   "metadata": {},
   "outputs": [],
   "source": [
    "db_session.commit()"
   ]
  },
  {
   "cell_type": "code",
   "execution_count": 13,
   "metadata": {},
   "outputs": [
    {
     "name": "stdout",
     "output_type": "stream",
     "text": [
      "Number of products: 1\n",
      "product id: 1\n",
      "product name: Kit Kat\n",
      "product quantity: 100\n",
      "product price: 2.0\n"
     ]
    }
   ],
   "source": [
    "products = db_session.query(Product)\n",
    "print(f\"Number of products: {products.count()}\")\n",
    "for product in products:\n",
    "    print(f\"product id: {product.product_id}\")\n",
    "    print(f\"product name: {product.product_name}\")\n",
    "    print(f\"product quantity: {product.quantity}\")\n",
    "    print(f\"product price: {product.price}\")"
   ]
  },
  {
   "cell_type": "markdown",
   "metadata": {},
   "source": [
    "### Equals Example"
   ]
  },
  {
   "cell_type": "code",
   "execution_count": 14,
   "metadata": {},
   "outputs": [
    {
     "name": "stdout",
     "output_type": "stream",
     "text": [
      "73 : Ashley Miller\n"
     ]
    }
   ],
   "source": [
    "equal_result = db_session.query(Supplier).filter(Supplier.supplier_name == \"Ashley Miller\")\n",
    "for row in equal_result:\n",
    "    print(f\"{row.supplier_id} : {row.supplier_name}\")"
   ]
  },
  {
   "cell_type": "markdown",
   "metadata": {},
   "source": [
    "### Like Example"
   ]
  },
  {
   "cell_type": "code",
   "execution_count": 15,
   "metadata": {},
   "outputs": [
    {
     "name": "stdout",
     "output_type": "stream",
     "text": [
      "31 : Ashley Huynh\n",
      "52 : Ashley Fox\n",
      "73 : Ashley Miller\n"
     ]
    }
   ],
   "source": [
    "like_result = db_session.query(Supplier).filter(Supplier.supplier_name.like(\"Ashley%\"))\n",
    "for row in like_result:\n",
    "    print(f\"{row.supplier_id} : {row.supplier_name}\")"
   ]
  },
  {
   "cell_type": "markdown",
   "metadata": {},
   "source": [
    "### And Example"
   ]
  },
  {
   "cell_type": "code",
   "execution_count": 16,
   "metadata": {},
   "outputs": [
    {
     "name": "stdout",
     "output_type": "stream",
     "text": [
      "52 : Ashley Fox\n",
      "73 : Ashley Miller\n"
     ]
    }
   ],
   "source": [
    "and_result = db_session.query(Supplier).filter(and_(Supplier.supplier_name.like(\"Ashley%\"), Supplier.supplier_id > 31))\n",
    "for row in and_result:\n",
    "    print(f\"{row.supplier_id} : {row.supplier_name}\") "
   ]
  },
  {
   "cell_type": "markdown",
   "metadata": {},
   "source": [
    "### Or Example"
   ]
  },
  {
   "cell_type": "code",
   "execution_count": 17,
   "metadata": {},
   "outputs": [
    {
     "name": "stdout",
     "output_type": "stream",
     "text": [
      "31 : Ashley Huynh\n",
      "52 : Ashley Fox\n",
      "73 : Ashley Miller\n",
      "96 : Natasha Williams\n",
      "97 : Derek Barker\n",
      "98 : Nicole Sullivan\n",
      "99 : Barbara Nunez\n",
      "100 : Andrea Martinez\n"
     ]
    }
   ],
   "source": [
    "or_result = db_session.query(Supplier).filter(\n",
    "            or_(Supplier.supplier_name.like(\"Ashley%\"), Supplier.supplier_id > 95))\n",
    "for row in or_result:\n",
    "      print(f\"{row.supplier_id} : {row.supplier_name}\")       "
   ]
  },
  {
   "cell_type": "markdown",
   "metadata": {},
   "source": [
    "### In Example"
   ]
  },
  {
   "cell_type": "code",
   "execution_count": 18,
   "metadata": {},
   "outputs": [
    {
     "name": "stdout",
     "output_type": "stream",
     "text": [
      "73 : Ashley Miller\n",
      "99 : Barbara Nunez\n"
     ]
    }
   ],
   "source": [
    "in_result = db_session.query(Supplier).filter(Supplier.supplier_name.in_([\"Ashley Miller\", \"Barbara Nunez\", \"Donna\"]))\n",
    "for row in in_result:\n",
    "    print(f\"{row.supplier_id} : {row.supplier_name}\")        "
   ]
  },
  {
   "cell_type": "markdown",
   "metadata": {},
   "source": [
    "### Query returning only the supplier_id field"
   ]
  },
  {
   "cell_type": "code",
   "execution_count": 19,
   "metadata": {},
   "outputs": [
    {
     "name": "stdout",
     "output_type": "stream",
     "text": [
      "31\n",
      "52\n",
      "73\n",
      "96\n",
      "97\n",
      "98\n",
      "99\n",
      "100\n"
     ]
    }
   ],
   "source": [
    "or_id_result = db_session.query(Supplier.supplier_id).filter(\n",
    "               or_(Supplier.supplier_name.like(\"Ashley%\"), Supplier.supplier_id > 95))\n",
    "for row in or_id_result:\n",
    "    print(f\"{row.supplier_id}\")"
   ]
  },
  {
   "cell_type": "markdown",
   "metadata": {},
   "source": [
    "### Update Example"
   ]
  },
  {
   "cell_type": "code",
   "execution_count": 20,
   "metadata": {},
   "outputs": [
    {
     "name": "stdout",
     "output_type": "stream",
     "text": [
      "Before Update\n",
      "Paula Wells\n"
     ]
    }
   ],
   "source": [
    "print(\"Before Update\")\n",
    "print(db_session.query(Supplier).filter(Supplier.supplier_name == \"Paula Wells\").one_or_none().supplier_name)"
   ]
  },
  {
   "cell_type": "code",
   "execution_count": 21,
   "metadata": {},
   "outputs": [],
   "source": [
    "db_session.query(Supplier).filter(Supplier.supplier_name == \"Paula Wells\").update({Supplier.supplier_name:\"Paula Miller\"})\n",
    "db_session.commit()"
   ]
  },
  {
   "cell_type": "code",
   "execution_count": 22,
   "metadata": {},
   "outputs": [
    {
     "name": "stdout",
     "output_type": "stream",
     "text": [
      "After Update\n",
      "None\n",
      "Paula Miller\n"
     ]
    }
   ],
   "source": [
    "print(\"After Update\")\n",
    "print(db_session.query(Supplier).filter(Supplier.supplier_name == \"Paula Wells\").one_or_none())\n",
    "print(db_session.query(Supplier).filter(Supplier.supplier_name == \"Paula Miller\").one_or_none().supplier_name)"
   ]
  },
  {
   "cell_type": "markdown",
   "metadata": {},
   "source": [
    "### Delete Example"
   ]
  },
  {
   "cell_type": "code",
   "execution_count": 23,
   "metadata": {},
   "outputs": [
    {
     "name": "stdout",
     "output_type": "stream",
     "text": [
      "Before Delete\n",
      "Amy Simmons\n"
     ]
    }
   ],
   "source": [
    "print(\"Before Delete\")\n",
    "print(db_session.query(Supplier).filter(Supplier.supplier_name == \"Amy Simmons\").one_or_none().supplier_name)"
   ]
  },
  {
   "cell_type": "code",
   "execution_count": 24,
   "metadata": {},
   "outputs": [],
   "source": [
    "db_session.query(Supplier).filter(Supplier.supplier_name == \"Amy Simmons\").delete()\n",
    "db_session.commit()"
   ]
  },
  {
   "cell_type": "code",
   "execution_count": 25,
   "metadata": {},
   "outputs": [
    {
     "name": "stdout",
     "output_type": "stream",
     "text": [
      "After Delete\n",
      "None\n"
     ]
    }
   ],
   "source": [
    "print(\"After Delete\")\n",
    "print(db_session.query(Supplier).filter(Supplier.supplier_name == \"Amy Simmons\").one_or_none())"
   ]
  },
  {
   "cell_type": "markdown",
   "metadata": {},
   "source": [
    "# Questions?"
   ]
  },
  {
   "cell_type": "code",
   "execution_count": null,
   "metadata": {},
   "outputs": [],
   "source": []
  }
 ],
 "metadata": {
  "kernelspec": {
   "display_name": "Python 3",
   "language": "python",
   "name": "python3"
  },
  "language_info": {
   "codemirror_mode": {
    "name": "ipython",
    "version": 3
   },
   "file_extension": ".py",
   "mimetype": "text/x-python",
   "name": "python",
   "nbconvert_exporter": "python",
   "pygments_lexer": "ipython3",
   "version": "3.6.5"
  }
 },
 "nbformat": 4,
 "nbformat_minor": 2
}
